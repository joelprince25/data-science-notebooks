{
 "cells": [
  {
   "cell_type": "markdown",
   "metadata": {},
   "source": [
    "## Techniques"
   ]
  },
  {
   "cell_type": "markdown",
   "metadata": {},
   "source": [
    "1. Baseline Recommenders - https://github.com/llSourcell/recommender_live/blob/master/Song%20Recommender_Python.ipynb\n",
    "\n",
    "2. Content Based Recommenders - If products and features and learn parameters for every user.\n",
    "\n",
    "3. Matrix Factorization for Collaborative Filtering - http://www.quuxlabs.com/blog/2010/09/matrix-factorization-a-simple-tutorial-and-implementation-in-python\n",
    "\n",
    "4. Deep Learning for Collaborative Filtering - http://tech.hulu.com/blog/2016/08/01/cfnade.html"
   ]
  },
  {
   "cell_type": "markdown",
   "metadata": {},
   "source": [
    "## Matrix Factorization"
   ]
  },
  {
   "cell_type": "code",
   "execution_count": 107,
   "metadata": {
    "collapsed": true
   },
   "outputs": [],
   "source": [
    "import numpy as np\n",
    "import pandas as pd\n",
    "import matplotlib.pyplot as plt\n",
    "% matplotlib inline"
   ]
  },
  {
   "cell_type": "markdown",
   "metadata": {},
   "source": [
    "### Data"
   ]
  },
  {
   "cell_type": "code",
   "execution_count": 71,
   "metadata": {
    "collapsed": false
   },
   "outputs": [],
   "source": [
    "customer_data = pd.DataFrame({'Alice' : [5,5,0,0,0], \n",
    "                              'Bob' : [5,0,4,0,0], \n",
    "                              'Carol' : [0,0,0,5,5], \n",
    "                              'Dave' : [0,0,0,4,0]}, \n",
    "                              index = ['Romantic A','Romantic B','Action A','Action B','Action C'])"
   ]
  },
  {
   "cell_type": "code",
   "execution_count": 72,
   "metadata": {
    "collapsed": false
   },
   "outputs": [
    {
     "data": {
      "text/html": [
       "<div>\n",
       "<table border=\"1\" class=\"dataframe\">\n",
       "  <thead>\n",
       "    <tr style=\"text-align: right;\">\n",
       "      <th></th>\n",
       "      <th>Alice</th>\n",
       "      <th>Bob</th>\n",
       "      <th>Carol</th>\n",
       "      <th>Dave</th>\n",
       "    </tr>\n",
       "  </thead>\n",
       "  <tbody>\n",
       "    <tr>\n",
       "      <th>Romantic A</th>\n",
       "      <td>5</td>\n",
       "      <td>5</td>\n",
       "      <td>0</td>\n",
       "      <td>0</td>\n",
       "    </tr>\n",
       "    <tr>\n",
       "      <th>Romantic B</th>\n",
       "      <td>5</td>\n",
       "      <td>0</td>\n",
       "      <td>0</td>\n",
       "      <td>0</td>\n",
       "    </tr>\n",
       "    <tr>\n",
       "      <th>Action A</th>\n",
       "      <td>0</td>\n",
       "      <td>4</td>\n",
       "      <td>0</td>\n",
       "      <td>0</td>\n",
       "    </tr>\n",
       "    <tr>\n",
       "      <th>Action B</th>\n",
       "      <td>0</td>\n",
       "      <td>0</td>\n",
       "      <td>5</td>\n",
       "      <td>4</td>\n",
       "    </tr>\n",
       "    <tr>\n",
       "      <th>Action C</th>\n",
       "      <td>0</td>\n",
       "      <td>0</td>\n",
       "      <td>5</td>\n",
       "      <td>0</td>\n",
       "    </tr>\n",
       "  </tbody>\n",
       "</table>\n",
       "</div>"
      ],
      "text/plain": [
       "            Alice  Bob  Carol  Dave\n",
       "Romantic A      5    5      0     0\n",
       "Romantic B      5    0      0     0\n",
       "Action A        0    4      0     0\n",
       "Action B        0    0      5     4\n",
       "Action C        0    0      5     0"
      ]
     },
     "execution_count": 72,
     "metadata": {},
     "output_type": "execute_result"
    }
   ],
   "source": [
    "customer_data"
   ]
  },
  {
   "cell_type": "markdown",
   "metadata": {},
   "source": [
    "### Parameters"
   ]
  },
  {
   "cell_type": "code",
   "execution_count": 73,
   "metadata": {
    "collapsed": false
   },
   "outputs": [],
   "source": [
    "ratings_matrix = customer_data.values\n",
    "num_movies = int(ratings_matrix.shape[0])\n",
    "num_users = int(ratings_matrix.shape[1])\n",
    "optimization_steps = 5000\n",
    "threshold = 0.001\n",
    "num_features = 2\n",
    "alpha = 0.002\n",
    "beta = 0.01"
   ]
  },
  {
   "cell_type": "markdown",
   "metadata": {},
   "source": [
    "### Optimization"
   ]
  },
  {
   "cell_type": "code",
   "execution_count": 74,
   "metadata": {
    "collapsed": false
   },
   "outputs": [],
   "source": [
    "movies_matrix = np.random.rand(num_movies, num_features)\n",
    "users_matrix = np.random.rand(num_users, num_features)\n",
    "users_matrix = users_matrix.T\n",
    "for i in range(optimization_steps):\n",
    "    for i in range(num_movies):\n",
    "        for j in range(num_users):\n",
    "            if ratings_matrix[i][j] > 0:\n",
    "                eij = ratings_matrix[i][j] - np.dot(movies_matrix[i,:], users_matrix[:,j])\n",
    "                for k in range(num_features):\n",
    "                    movies_matrix[i][k] = movies_matrix[i][k] + alpha*(2*eij*users_matrix[k][j] - beta*movies_matrix[i][k])\n",
    "                    users_matrix[k][j] = users_matrix[k][j] + alpha*(2*eij*movies_matrix[i][k] - beta*users_matrix[k][j])\n",
    "\n",
    "    pred_ratings_matrix = np.matmul(movies_matrix, users_matrix)\n",
    "    error = 0\n",
    "    for i in range(num_movies):\n",
    "        for j in range(num_users):\n",
    "            if ratings_matrix[i][j] > 0:\n",
    "                error = error + (ratings_matrix[i][j] - pred_ratings_matrix[i][j])**2\n",
    "                for k in range(num_features):\n",
    "                    error = error + beta/2*(movies_matrix[i][k]**2 + users_matrix[k][j]**2)\n",
    "    if error < threshold:\n",
    "        break    "
   ]
  },
  {
   "cell_type": "markdown",
   "metadata": {},
   "source": [
    "### Results"
   ]
  },
  {
   "cell_type": "code",
   "execution_count": 80,
   "metadata": {
    "collapsed": false
   },
   "outputs": [
    {
     "data": {
      "text/plain": [
       "array([[5, 5, 0, 0],\n",
       "       [5, 0, 0, 0],\n",
       "       [0, 4, 0, 0],\n",
       "       [0, 0, 5, 4],\n",
       "       [0, 0, 5, 0]], dtype=int64)"
      ]
     },
     "execution_count": 80,
     "metadata": {},
     "output_type": "execute_result"
    }
   ],
   "source": [
    "ratings_matrix"
   ]
  },
  {
   "cell_type": "code",
   "execution_count": 82,
   "metadata": {
    "collapsed": false
   },
   "outputs": [
    {
     "data": {
      "text/plain": [
       "array([[ 5.  ,  4.99,  5.03,  4.07],\n",
       "       [ 4.99,  4.94,  5.08,  4.09],\n",
       "       [ 4.07,  4.  ,  4.19,  3.35],\n",
       "       [ 4.85,  4.74,  4.99,  4.  ],\n",
       "       [ 4.82,  4.68,  5.  ,  3.98]])"
      ]
     },
     "execution_count": 82,
     "metadata": {},
     "output_type": "execute_result"
    }
   ],
   "source": [
    "pred_ratings_matrix.round(2)"
   ]
  },
  {
   "cell_type": "code",
   "execution_count": 83,
   "metadata": {
    "collapsed": false
   },
   "outputs": [
    {
     "data": {
      "text/plain": [
       "array([[ 1.82126595,  1.25578637],\n",
       "       [ 1.7147873 ,  1.38910067],\n",
       "       [ 1.31355806,  1.24080839],\n",
       "       [ 1.53690722,  1.51044983],\n",
       "       [ 1.450082  ,  1.59634897]])"
      ]
     },
     "execution_count": 83,
     "metadata": {},
     "output_type": "execute_result"
    }
   ],
   "source": [
    "movies_matrix"
   ]
  },
  {
   "cell_type": "markdown",
   "metadata": {},
   "source": [
    "#### We learn a low-dimensional representation for movies"
   ]
  },
  {
   "cell_type": "code",
   "execution_count": 114,
   "metadata": {
    "collapsed": true
   },
   "outputs": [],
   "source": [
    "movies = pd.DataFrame({'x' : movies_matrix[:,0], 'y' : movies_matrix[:,1], 'genre' : ['red','red','blue','blue','blue']})"
   ]
  },
  {
   "cell_type": "code",
   "execution_count": 115,
   "metadata": {
    "collapsed": false
   },
   "outputs": [
    {
     "data": {
      "text/html": [
       "<div>\n",
       "<table border=\"1\" class=\"dataframe\">\n",
       "  <thead>\n",
       "    <tr style=\"text-align: right;\">\n",
       "      <th></th>\n",
       "      <th>genre</th>\n",
       "      <th>x</th>\n",
       "      <th>y</th>\n",
       "    </tr>\n",
       "  </thead>\n",
       "  <tbody>\n",
       "    <tr>\n",
       "      <th>0</th>\n",
       "      <td>red</td>\n",
       "      <td>1.821266</td>\n",
       "      <td>1.255786</td>\n",
       "    </tr>\n",
       "    <tr>\n",
       "      <th>1</th>\n",
       "      <td>red</td>\n",
       "      <td>1.714787</td>\n",
       "      <td>1.389101</td>\n",
       "    </tr>\n",
       "    <tr>\n",
       "      <th>2</th>\n",
       "      <td>blue</td>\n",
       "      <td>1.313558</td>\n",
       "      <td>1.240808</td>\n",
       "    </tr>\n",
       "    <tr>\n",
       "      <th>3</th>\n",
       "      <td>blue</td>\n",
       "      <td>1.536907</td>\n",
       "      <td>1.510450</td>\n",
       "    </tr>\n",
       "    <tr>\n",
       "      <th>4</th>\n",
       "      <td>blue</td>\n",
       "      <td>1.450082</td>\n",
       "      <td>1.596349</td>\n",
       "    </tr>\n",
       "  </tbody>\n",
       "</table>\n",
       "</div>"
      ],
      "text/plain": [
       "  genre         x         y\n",
       "0   red  1.821266  1.255786\n",
       "1   red  1.714787  1.389101\n",
       "2  blue  1.313558  1.240808\n",
       "3  blue  1.536907  1.510450\n",
       "4  blue  1.450082  1.596349"
      ]
     },
     "execution_count": 115,
     "metadata": {},
     "output_type": "execute_result"
    }
   ],
   "source": [
    "movies"
   ]
  },
  {
   "cell_type": "code",
   "execution_count": 116,
   "metadata": {
    "collapsed": false
   },
   "outputs": [
    {
     "data": {
      "text/plain": [
       "<matplotlib.collections.PathCollection at 0xd572518>"
      ]
     },
     "execution_count": 116,
     "metadata": {},
     "output_type": "execute_result"
    },
    {
     "data": {
      "image/png": "[encoded data removed]",
      "text/plain": [
       "<matplotlib.figure.Figure at 0xd31e3c8>"
      ]
     },
     "metadata": {},
     "output_type": "display_data"
    }
   ],
   "source": [
    "plt.scatter(movies['x'], movies['y'], c = movies['genre'])"
   ]
  },
  {
   "cell_type": "code",
   "execution_count": 84,
   "metadata": {
    "collapsed": false
   },
   "outputs": [
    {
     "data": {
      "text/plain": [
       "array([[ 1.77305565,  1.40677203],\n",
       "       [ 1.93118604,  1.1758606 ],\n",
       "       [ 1.6229139 ,  1.6549767 ],\n",
       "       [ 1.38355864,  1.23760284]])"
      ]
     },
     "execution_count": 84,
     "metadata": {},
     "output_type": "execute_result"
    }
   ],
   "source": [
    "users_matrix.T"
   ]
  },
  {
   "cell_type": "code",
   "execution_count": 85,
   "metadata": {
    "collapsed": false
   },
   "outputs": [
    {
     "data": {
      "text/plain": [
       "0.3327920120321069"
      ]
     },
     "execution_count": 85,
     "metadata": {},
     "output_type": "execute_result"
    }
   ],
   "source": [
    "error"
   ]
  }
 ],
 "metadata": {
  "kernelspec": {
   "display_name": "Python 2",
   "language": "python",
   "name": "python2"
  },
  "language_info": {
   "codemirror_mode": {
    "name": "ipython",
    "version": 2
   },
   "file_extension": ".py",
   "mimetype": "text/x-python",
   "name": "python",
   "nbconvert_exporter": "python",
   "pygments_lexer": "ipython2",
   "version": "2.7.13"
  }
 },
 "nbformat": 4,
 "nbformat_minor": 2
}
